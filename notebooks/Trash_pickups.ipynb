{
 "cells": [
  {
   "cell_type": "code",
   "execution_count": 105,
   "id": "163f4ba5-ea9e-4175-8b15-6dff4363d357",
   "metadata": {},
   "outputs": [],
   "source": [
    "import pandas as pd\n",
    "import geopandas as gpd\n",
    "import matplotlib.pyplot as plt\n",
    "import folium\n",
    "from folium.plugins import MarkerCluster\n",
    "from folium.plugins import FastMarkerCluster"
   ]
  },
  {
   "cell_type": "code",
   "execution_count": 106,
   "id": "0e3b3cf9-ca7b-4cc4-ad7d-d90d0ce13191",
   "metadata": {},
   "outputs": [
    {
     "data": {
      "text/html": [
       "<div>\n",
       "<style scoped>\n",
       "    .dataframe tbody tr th:only-of-type {\n",
       "        vertical-align: middle;\n",
       "    }\n",
       "\n",
       "    .dataframe tbody tr th {\n",
       "        vertical-align: top;\n",
       "    }\n",
       "\n",
       "    .dataframe thead th {\n",
       "        text-align: right;\n",
       "    }\n",
       "</style>\n",
       "<table border=\"1\" class=\"dataframe\">\n",
       "  <thead>\n",
       "    <tr style=\"text-align: right;\">\n",
       "      <th></th>\n",
       "      <th>Request Number</th>\n",
       "      <th>Date Opened</th>\n",
       "      <th>Request</th>\n",
       "      <th>Description</th>\n",
       "      <th>Incident Address</th>\n",
       "      <th>Zip Code</th>\n",
       "      <th>Trash Hauler</th>\n",
       "      <th>Trash Route</th>\n",
       "      <th>Council District</th>\n",
       "      <th>State Plan X</th>\n",
       "      <th>State Plan Y</th>\n",
       "      <th>LONGITUDE</th>\n",
       "      <th>LATITUDE</th>\n",
       "    </tr>\n",
       "  </thead>\n",
       "  <tbody>\n",
       "    <tr>\n",
       "      <th>0</th>\n",
       "      <td>25270</td>\n",
       "      <td>11/1/2017</td>\n",
       "      <td>Trash - Backdoor</td>\n",
       "      <td>house with the wheel chair ramp, they share dr...</td>\n",
       "      <td>3817 Crouch Dr</td>\n",
       "      <td>37207.0</td>\n",
       "      <td>RED RIVER</td>\n",
       "      <td>3205</td>\n",
       "      <td>2.0</td>\n",
       "      <td>1727970.412</td>\n",
       "      <td>686779.4781</td>\n",
       "      <td>-86.815392</td>\n",
       "      <td>36.217292</td>\n",
       "    </tr>\n",
       "    <tr>\n",
       "      <th>1</th>\n",
       "      <td>25274</td>\n",
       "      <td>11/1/2017</td>\n",
       "      <td>Trash - Curbside/Alley Missed Pickup</td>\n",
       "      <td>Curb/Trash miss Tuesday.</td>\n",
       "      <td>4028 Clarksville Pike</td>\n",
       "      <td>37218.0</td>\n",
       "      <td>RED RIVER</td>\n",
       "      <td>4202</td>\n",
       "      <td>1.0</td>\n",
       "      <td>1721259.366</td>\n",
       "      <td>685444.7996</td>\n",
       "      <td>-86.838103</td>\n",
       "      <td>36.213470</td>\n",
       "    </tr>\n",
       "    <tr>\n",
       "      <th>2</th>\n",
       "      <td>25276</td>\n",
       "      <td>11/1/2017</td>\n",
       "      <td>Trash - Curbside/Alley Missed Pickup</td>\n",
       "      <td>Curb/trash miss Tuesday.</td>\n",
       "      <td>6528 Thunderbird Dr</td>\n",
       "      <td>37209.0</td>\n",
       "      <td>RED RIVER</td>\n",
       "      <td>4205</td>\n",
       "      <td>20.0</td>\n",
       "      <td>1707026.753</td>\n",
       "      <td>659887.4716</td>\n",
       "      <td>-86.885562</td>\n",
       "      <td>36.142923</td>\n",
       "    </tr>\n",
       "    <tr>\n",
       "      <th>3</th>\n",
       "      <td>25307</td>\n",
       "      <td>11/1/2017</td>\n",
       "      <td>Trash - Curbside/Alley Missed Pickup</td>\n",
       "      <td>missed</td>\n",
       "      <td>2603 old matthews rd</td>\n",
       "      <td>37207.0</td>\n",
       "      <td>WASTE IND</td>\n",
       "      <td>2206</td>\n",
       "      <td>2.0</td>\n",
       "      <td>1735691.771</td>\n",
       "      <td>685027.2459</td>\n",
       "      <td>-86.789170</td>\n",
       "      <td>36.212652</td>\n",
       "    </tr>\n",
       "    <tr>\n",
       "      <th>4</th>\n",
       "      <td>25312</td>\n",
       "      <td>11/1/2017</td>\n",
       "      <td>Trash - Curbside/Alley Missed Pickup</td>\n",
       "      <td>Missed the even side of the road.</td>\n",
       "      <td>604 croley dr</td>\n",
       "      <td>37209.0</td>\n",
       "      <td>RED RIVER</td>\n",
       "      <td>4203</td>\n",
       "      <td>20.0</td>\n",
       "      <td>1710185.772</td>\n",
       "      <td>664205.1011</td>\n",
       "      <td>-86.874995</td>\n",
       "      <td>36.154861</td>\n",
       "    </tr>\n",
       "    <tr>\n",
       "      <th>...</th>\n",
       "      <td>...</td>\n",
       "      <td>...</td>\n",
       "      <td>...</td>\n",
       "      <td>...</td>\n",
       "      <td>...</td>\n",
       "      <td>...</td>\n",
       "      <td>...</td>\n",
       "      <td>...</td>\n",
       "      <td>...</td>\n",
       "      <td>...</td>\n",
       "      <td>...</td>\n",
       "      <td>...</td>\n",
       "      <td>...</td>\n",
       "    </tr>\n",
       "    <tr>\n",
       "      <th>20221</th>\n",
       "      <td>267125</td>\n",
       "      <td>11/1/2019</td>\n",
       "      <td>Trash - Curbside/Alley Missed Pickup</td>\n",
       "      <td>MISSED...NEIGHBORS MISSED</td>\n",
       "      <td>2731 Murfreesboro Pike</td>\n",
       "      <td>37013.0</td>\n",
       "      <td>RED RIVER</td>\n",
       "      <td>4502</td>\n",
       "      <td>32.0</td>\n",
       "      <td>1781137.263</td>\n",
       "      <td>632448.5511</td>\n",
       "      <td>-86.633970</td>\n",
       "      <td>36.069130</td>\n",
       "    </tr>\n",
       "    <tr>\n",
       "      <th>20222</th>\n",
       "      <td>267126</td>\n",
       "      <td>11/1/2019</td>\n",
       "      <td>Trash - Curbside/Alley Missed Pickup</td>\n",
       "      <td>entire alley</td>\n",
       "      <td>1621 Long Ave, Nashville, TN 37206, United States</td>\n",
       "      <td>37206.0</td>\n",
       "      <td>METRO</td>\n",
       "      <td>9508</td>\n",
       "      <td>6.0</td>\n",
       "      <td>1749711.399</td>\n",
       "      <td>669201.6016</td>\n",
       "      <td>-86.741242</td>\n",
       "      <td>36.169482</td>\n",
       "    </tr>\n",
       "    <tr>\n",
       "      <th>20223</th>\n",
       "      <td>267130</td>\n",
       "      <td>11/1/2019</td>\n",
       "      <td>Trash - Curbside/Alley Missed Pickup</td>\n",
       "      <td>missed several</td>\n",
       "      <td>2943 Windemere Cir, Nashville, TN 37214, Unite...</td>\n",
       "      <td>37214.0</td>\n",
       "      <td>RED RIVER</td>\n",
       "      <td>1502</td>\n",
       "      <td>15.0</td>\n",
       "      <td>1770293.388</td>\n",
       "      <td>674936.3038</td>\n",
       "      <td>-86.671647</td>\n",
       "      <td>36.185643</td>\n",
       "    </tr>\n",
       "    <tr>\n",
       "      <th>20224</th>\n",
       "      <td>267134</td>\n",
       "      <td>11/1/2019</td>\n",
       "      <td>Trash - Curbside/Alley Missed Pickup</td>\n",
       "      <td>Caller stated trash was missed &amp; were only pic...</td>\n",
       "      <td>3325 Murfreesboro Pike, Nashville, TN 37013, U...</td>\n",
       "      <td>37013.0</td>\n",
       "      <td>RED RIVER</td>\n",
       "      <td>4502</td>\n",
       "      <td>32.0</td>\n",
       "      <td>1785224.998</td>\n",
       "      <td>627146.4002</td>\n",
       "      <td>-86.620025</td>\n",
       "      <td>36.054637</td>\n",
       "    </tr>\n",
       "    <tr>\n",
       "      <th>20225</th>\n",
       "      <td>267137</td>\n",
       "      <td>11/1/2019</td>\n",
       "      <td>Trash - Curbside/Alley Missed Pickup</td>\n",
       "      <td>possibly others missed as well</td>\n",
       "      <td>604 Somerset Ct, Nashville, TN 37217, United S...</td>\n",
       "      <td>37217.0</td>\n",
       "      <td>RED RIVER</td>\n",
       "      <td>2505</td>\n",
       "      <td>29.0</td>\n",
       "      <td>1781360.323</td>\n",
       "      <td>637742.0068</td>\n",
       "      <td>-86.633331</td>\n",
       "      <td>36.083675</td>\n",
       "    </tr>\n",
       "  </tbody>\n",
       "</table>\n",
       "<p>20226 rows × 13 columns</p>\n",
       "</div>"
      ],
      "text/plain": [
       "       Request Number Date Opened                               Request  \\\n",
       "0               25270   11/1/2017                      Trash - Backdoor   \n",
       "1               25274   11/1/2017  Trash - Curbside/Alley Missed Pickup   \n",
       "2               25276   11/1/2017  Trash - Curbside/Alley Missed Pickup   \n",
       "3               25307   11/1/2017  Trash - Curbside/Alley Missed Pickup   \n",
       "4               25312   11/1/2017  Trash - Curbside/Alley Missed Pickup   \n",
       "...               ...         ...                                   ...   \n",
       "20221          267125   11/1/2019  Trash - Curbside/Alley Missed Pickup   \n",
       "20222          267126   11/1/2019  Trash - Curbside/Alley Missed Pickup   \n",
       "20223          267130   11/1/2019  Trash - Curbside/Alley Missed Pickup   \n",
       "20224          267134   11/1/2019  Trash - Curbside/Alley Missed Pickup   \n",
       "20225          267137   11/1/2019  Trash - Curbside/Alley Missed Pickup   \n",
       "\n",
       "                                             Description  \\\n",
       "0      house with the wheel chair ramp, they share dr...   \n",
       "1                               Curb/Trash miss Tuesday.   \n",
       "2                               Curb/trash miss Tuesday.   \n",
       "3                                                 missed   \n",
       "4                      Missed the even side of the road.   \n",
       "...                                                  ...   \n",
       "20221                          MISSED...NEIGHBORS MISSED   \n",
       "20222                                       entire alley   \n",
       "20223                                     missed several   \n",
       "20224  Caller stated trash was missed & were only pic...   \n",
       "20225                     possibly others missed as well   \n",
       "\n",
       "                                        Incident Address  Zip Code  \\\n",
       "0                                         3817 Crouch Dr   37207.0   \n",
       "1                                  4028 Clarksville Pike   37218.0   \n",
       "2                                    6528 Thunderbird Dr   37209.0   \n",
       "3                                   2603 old matthews rd   37207.0   \n",
       "4                                          604 croley dr   37209.0   \n",
       "...                                                  ...       ...   \n",
       "20221                             2731 Murfreesboro Pike   37013.0   \n",
       "20222  1621 Long Ave, Nashville, TN 37206, United States   37206.0   \n",
       "20223  2943 Windemere Cir, Nashville, TN 37214, Unite...   37214.0   \n",
       "20224  3325 Murfreesboro Pike, Nashville, TN 37013, U...   37013.0   \n",
       "20225  604 Somerset Ct, Nashville, TN 37217, United S...   37217.0   \n",
       "\n",
       "      Trash Hauler Trash Route  Council District  State Plan X  State Plan Y  \\\n",
       "0        RED RIVER        3205               2.0   1727970.412   686779.4781   \n",
       "1        RED RIVER        4202               1.0   1721259.366   685444.7996   \n",
       "2        RED RIVER        4205              20.0   1707026.753   659887.4716   \n",
       "3        WASTE IND        2206               2.0   1735691.771   685027.2459   \n",
       "4        RED RIVER        4203              20.0   1710185.772   664205.1011   \n",
       "...            ...         ...               ...           ...           ...   \n",
       "20221    RED RIVER        4502              32.0   1781137.263   632448.5511   \n",
       "20222        METRO        9508               6.0   1749711.399   669201.6016   \n",
       "20223    RED RIVER        1502              15.0   1770293.388   674936.3038   \n",
       "20224    RED RIVER        4502              32.0   1785224.998   627146.4002   \n",
       "20225    RED RIVER        2505              29.0   1781360.323   637742.0068   \n",
       "\n",
       "       LONGITUDE   LATITUDE  \n",
       "0     -86.815392  36.217292  \n",
       "1     -86.838103  36.213470  \n",
       "2     -86.885562  36.142923  \n",
       "3     -86.789170  36.212652  \n",
       "4     -86.874995  36.154861  \n",
       "...          ...        ...  \n",
       "20221 -86.633970  36.069130  \n",
       "20222 -86.741242  36.169482  \n",
       "20223 -86.671647  36.185643  \n",
       "20224 -86.620025  36.054637  \n",
       "20225 -86.633331  36.083675  \n",
       "\n",
       "[20226 rows x 13 columns]"
      ]
     },
     "execution_count": 106,
     "metadata": {},
     "output_type": "execute_result"
    }
   ],
   "source": [
    "trash_pickups = pd.read_csv('../data/trash_hauler_report_with_lat_lng.csv')\n",
    "trash_pickups\n"
   ]
  },
  {
   "cell_type": "code",
   "execution_count": 107,
   "id": "7da4a5e9-7c02-4a79-b2e2-70fec1629632",
   "metadata": {},
   "outputs": [
    {
     "name": "stdout",
     "output_type": "stream",
     "text": [
      "Index(['Request Number', 'Date Opened', 'Request', 'Description',\n",
      "       'Incident Address', 'Zip Code', 'Trash Hauler', 'Trash Route',\n",
      "       'Council District', 'State Plan X', 'State Plan Y', 'LONGITUDE',\n",
      "       'LATITUDE'],\n",
      "      dtype='object')\n",
      "   Request Number Date Opened                               Request  \\\n",
      "0           25270   11/1/2017                      Trash - Backdoor   \n",
      "1           25274   11/1/2017  Trash - Curbside/Alley Missed Pickup   \n",
      "2           25276   11/1/2017  Trash - Curbside/Alley Missed Pickup   \n",
      "3           25307   11/1/2017  Trash - Curbside/Alley Missed Pickup   \n",
      "4           25312   11/1/2017  Trash - Curbside/Alley Missed Pickup   \n",
      "\n",
      "                                         Description       Incident Address  \\\n",
      "0  house with the wheel chair ramp, they share dr...         3817 Crouch Dr   \n",
      "1                           Curb/Trash miss Tuesday.  4028 Clarksville Pike   \n",
      "2                           Curb/trash miss Tuesday.    6528 Thunderbird Dr   \n",
      "3                                             missed   2603 old matthews rd   \n",
      "4                  Missed the even side of the road.          604 croley dr   \n",
      "\n",
      "   Zip Code Trash Hauler Trash Route  Council District  State Plan X  \\\n",
      "0   37207.0    RED RIVER        3205               2.0   1727970.412   \n",
      "1   37218.0    RED RIVER        4202               1.0   1721259.366   \n",
      "2   37209.0    RED RIVER        4205              20.0   1707026.753   \n",
      "3   37207.0    WASTE IND        2206               2.0   1735691.771   \n",
      "4   37209.0    RED RIVER        4203              20.0   1710185.772   \n",
      "\n",
      "   State Plan Y  LONGITUDE   LATITUDE  \n",
      "0   686779.4781 -86.815392  36.217292  \n",
      "1   685444.7996 -86.838103  36.213470  \n",
      "2   659887.4716 -86.885562  36.142923  \n",
      "3   685027.2459 -86.789170  36.212652  \n",
      "4   664205.1011 -86.874995  36.154861  \n"
     ]
    }
   ],
   "source": [
    "print(trash_pickups.columns)\n",
    "print(trash_pickups.head())"
   ]
  },
  {
   "cell_type": "code",
   "execution_count": 108,
   "id": "e9aa91cc-239a-4ca1-ba7d-8ae3a8da1392",
   "metadata": {},
   "outputs": [
    {
     "name": "stdout",
     "output_type": "stream",
     "text": [
      "Number of missed pickups: 15028\n"
     ]
    }
   ],
   "source": [
    "missed_pickups = trash_pickups[trash_pickups['Request'].str.contains('missed pickup', case=False, na=False)]\n",
    "print(f\"Number of missed pickups: {len(missed_pickups)}\")"
   ]
  },
  {
   "cell_type": "code",
   "execution_count": 109,
   "id": "c84bc11d-e01e-4fff-b75c-af19bcc29473",
   "metadata": {},
   "outputs": [
    {
     "data": {
      "text/plain": [
       "720800"
      ]
     },
     "execution_count": 109,
     "metadata": {},
     "output_type": "execute_result"
    }
   ],
   "source": [
    "pickup_counts = missed_pickups.groupby('Incident Address').size()\n",
    "fined_counts = pickup_counts[pickup_counts > 1] - 1\n",
    "total_damages = fined_counts.sum() * 200\n",
    "total_damages\n"
   ]
  },
  {
   "cell_type": "markdown",
   "id": "ca7a0d6f-e044-4047-a64c-f416324467c6",
   "metadata": {},
   "source": [
    "What other types of complaints are there?"
   ]
  },
  {
   "cell_type": "code",
   "execution_count": 110,
   "id": "817aafe5-0b57-4ace-989c-bdb58b3a833a",
   "metadata": {},
   "outputs": [
    {
     "name": "stdout",
     "output_type": "stream",
     "text": [
      "Request\n",
      "Trash - Curbside/Alley Missed Pickup    15028\n",
      "Trash - Backdoor                         2629\n",
      "Trash Collection Complaint               2312\n",
      "Damage to Property                        257\n",
      "Name: count, dtype: int64\n"
     ]
    }
   ],
   "source": [
    "complaint_types = trash_pickups['Request'].value_counts()\n",
    "print(complaint_types)"
   ]
  },
  {
   "cell_type": "code",
   "execution_count": 111,
   "id": "9928975a-72c8-4f1d-b4b9-4d67afa6a302",
   "metadata": {},
   "outputs": [
    {
     "name": "stdout",
     "output_type": "stream",
     "text": [
      "                                Request  Count\n",
      "0  Trash - Curbside/Alley Missed Pickup  15028\n",
      "1                      Trash - Backdoor   2629\n",
      "2            Trash Collection Complaint   2312\n",
      "3                    Damage to Property    257\n"
     ]
    }
   ],
   "source": [
    "complaint_df = complaint_types.reset_index()\n",
    "complaint_df.columns = ['Request', 'Count']\n",
    "print(complaint_df)"
   ]
  },
  {
   "cell_type": "code",
   "execution_count": 112,
   "id": "587f00a2-355b-4a35-8b30-035b9c66559b",
   "metadata": {},
   "outputs": [
    {
     "data": {
      "image/png": "[encoded data removed]",
      "text/plain": [
       "<Figure size 640x480 with 1 Axes>"
      ]
     },
     "metadata": {},
     "output_type": "display_data"
    }
   ],
   "source": [
    "import matplotlib.pyplot as plt\n",
    "\n",
    "complaint_df.head(10).plot(kind='bar', x='Request', y='Count', legend=False)\n",
    "plt.title('Top 10 Trash Complaints')\n",
    "plt.ylabel('Count')\n",
    "plt.xticks(rotation=45, ha='right')\n",
    "plt.tight_layout()\n",
    "plt.show()"
   ]
  },
  {
   "cell_type": "markdown",
   "id": "08edb748-0977-4069-a9dd-55d037c279cd",
   "metadata": {},
   "source": [
    "Are there any geospatial analysis you can do?  Which visualizations can you create?"
   ]
  },
  {
   "cell_type": "code",
   "execution_count": 113,
   "id": "2c35dacc-e0ae-4a10-9a06-bf7dcd9fdc2d",
   "metadata": {},
   "outputs": [],
   "source": [
    "import geopandas as gpd\n",
    "import folium\n",
    "from folium.plugins import HeatMap\n",
    "\n",
    "nashville_center = [36.1627, -86.7816]\n",
    "map_heat = folium.Map(location=nashville_center, zoom_start=11, tiles='CartoDB positron')\n",
    "\n",
    "missed_pickups = trash_pickups[trash_pickups['Request'].str.contains('missed pickup', case=False, na=False)]\n",
    "\n",
    "heat_data = missed_pickups[['LATITUDE', 'LONGITUDE']].dropna()\n",
    "heat_data_list = heat_data.values.tolist()\n",
    "\n",
    "HeatMap(heat_data_list, radius=10).add_to(map_heat)\n",
    "\n",
    "map_heat.save(\"missed_pickups_heatmap.html\")"
   ]
  },
  {
   "cell_type": "code",
   "execution_count": 114,
   "id": "1b305aa0-9b0e-40c7-98cd-bd94467fbc2e",
   "metadata": {},
   "outputs": [
    {
     "data": {
      "text/html": [
       "\n",
       "        <iframe\n",
       "            width=\"1000\"\n",
       "            height=\"500\"\n",
       "            src=\"missed_pickups_heatmap.html\"\n",
       "            frameborder=\"0\"\n",
       "            allowfullscreen\n",
       "            \n",
       "        ></iframe>\n",
       "        "
      ],
      "text/plain": [
       "<IPython.lib.display.IFrame at 0x113274968c0>"
      ]
     },
     "execution_count": 114,
     "metadata": {},
     "output_type": "execute_result"
    }
   ],
   "source": [
    "from IPython.display import IFrame\n",
    "IFrame('missed_pickups_heatmap.html', width=1000, height=500)"
   ]
  },
  {
   "cell_type": "markdown",
   "id": "e4f92253-13a7-4b85-9b98-fe3171a7c107",
   "metadata": {},
   "source": [
    " How do metro crews compare to the contractor's performance?"
   ]
  },
  {
   "cell_type": "code",
   "execution_count": 115,
   "id": "3f4da90d-cc19-4a5f-adf2-0266e7531241",
   "metadata": {},
   "outputs": [
    {
     "data": {
      "image/png": "[encoded data removed]",
      "text/plain": [
       "<Figure size 1000x500 with 1 Axes>"
      ]
     },
     "metadata": {},
     "output_type": "display_data"
    }
   ],
   "source": [
    "import matplotlib.pyplot as plt\n",
    "\n",
    "missed_pickups = trash_pickups[trash_pickups['Request'].str.contains('missed pickup', case=False, na=False)]\n",
    "missed_by_hauler = missed_pickups['Trash Hauler'].value_counts()\n",
    "missed_by_hauler.plot(kind='bar', title='Missed Pickups by Trash Hauler', figsize=(10, 5))\n",
    "plt.ylabel('Number of Missed Pickups')\n",
    "plt.xlabel('Trash Hauler')\n",
    "plt.xticks(rotation=45)\n",
    "plt.tight_layout()\n",
    "plt.show()"
   ]
  },
  {
   "cell_type": "markdown",
   "id": "9fca3e9d-0de1-45b5-a048-02a754fe6216",
   "metadata": {},
   "source": [
    "How much does each trash hauler owe?"
   ]
  },
  {
   "cell_type": "code",
   "execution_count": 116,
   "id": "98022cab-1f19-4d7c-8861-a1d71b025c9c",
   "metadata": {},
   "outputs": [],
   "source": [
    "import pandas as pd\n",
    "\n"
   ]
  },
  {
   "cell_type": "markdown",
   "id": "b1124f68-f29f-487c-9ef2-0c714666bb9a",
   "metadata": {},
   "source": [
    "What were to total missed pickup by route?"
   ]
  },
  {
   "cell_type": "code",
   "execution_count": 117,
   "id": "ef757f22-e203-41d7-8da5-e14cf0fed861",
   "metadata": {},
   "outputs": [
    {
     "name": "stdout",
     "output_type": "stream",
     "text": [
      "    Trash Route  Missed Pickups\n",
      "133        4504             305\n",
      "124        4404             246\n",
      "74         3302             230\n",
      "80         3305             215\n",
      "150        9303             209\n",
      "..          ...             ...\n",
      "52        2405S               3\n",
      "105       4201S               2\n",
      "77        3303S               2\n",
      "59        2505S               2\n",
      "22        1502S               1\n",
      "\n",
      "[172 rows x 2 columns]\n"
     ]
    }
   ],
   "source": [
    "missed_by_route = missed_pickups.groupby('Trash Route').size().reset_index(name='Missed Pickups').sort_values(by='Missed Pickups', ascending=False)\n",
    "print(missed_by_route)"
   ]
  },
  {
   "cell_type": "code",
   "execution_count": null,
   "id": "08dbf488-acfb-4aea-87f1-83534b857541",
   "metadata": {},
   "outputs": [],
   "source": []
  }
 ],
 "metadata": {
  "kernelspec": {
   "display_name": "Python 3 (ipykernel)",
   "language": "python",
   "name": "python3"
  },
  "language_info": {
   "codemirror_mode": {
    "name": "ipython",
    "version": 3
   },
   "file_extension": ".py",
   "mimetype": "text/x-python",
   "name": "python",
   "nbconvert_exporter": "python",
   "pygments_lexer": "ipython3",
   "version": "3.10.17"
  }
 },
 "nbformat": 4,
 "nbformat_minor": 5
}
